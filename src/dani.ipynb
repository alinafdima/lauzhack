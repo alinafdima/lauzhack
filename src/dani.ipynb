{
 "cells": [
  {
   "cell_type": "code",
   "execution_count": 2,
   "metadata": {},
   "outputs": [],
   "source": [
    "from main import *\n",
    "from utils import *"
   ]
  },
  {
   "cell_type": "code",
   "execution_count": 3,
   "metadata": {
    "scrolled": true
   },
   "outputs": [
    {
     "name": "stdout",
     "output_type": "stream",
     "text": [
      "2017-05-23 - Karstadt.png <invalid>\n",
      "2017-07-13 - dm.png dm\n",
      "2017-09-09 - TKMaxx.png TKMaxx\n",
      "2017-07-22 - Aldi.png Aldi Sued\n",
      "2017-05-23 - Karstadt b.png Karstadt\n",
      "2017-10-21 - Gamestop.png <invalid>\n",
      "2017-05-11 - Primark.png Primark\n",
      "2017-09-16 - Galeria Kaufhof.png Galeria Kaufhof\n",
      "2017-01-20 - Lidl.png Lidl\n",
      "2017-09-22 - Rewe.png <invalid>\n",
      "2017-10-01 - Rossman.png Rossman\n",
      "2017-07-11 - Oishii.png Oishii\n"
     ]
    }
   ],
   "source": [
    "D=readStoreLogos()\n",
    "addAllLogos(D) "
   ]
  },
  {
   "cell_type": "code",
   "execution_count": 4,
   "metadata": {},
   "outputs": [],
   "source": [
    "#test_all_lidl(D, False)"
   ]
  },
  {
   "cell_type": "code",
   "execution_count": 6,
   "metadata": {},
   "outputs": [],
   "source": [
    "goThroughFilesToCheckLogo(D)"
   ]
  },
  {
   "cell_type": "code",
   "execution_count": null,
   "metadata": {},
   "outputs": [],
   "source": []
  }
 ],
 "metadata": {
  "kernelspec": {
   "display_name": "Python 2",
   "language": "python",
   "name": "python2"
  },
  "language_info": {
   "codemirror_mode": {
    "name": "ipython",
    "version": 2
   },
   "file_extension": ".py",
   "mimetype": "text/x-python",
   "name": "python",
   "nbconvert_exporter": "python",
   "pygments_lexer": "ipython2",
   "version": "2.7.14"
  }
 },
 "nbformat": 4,
 "nbformat_minor": 2
}
