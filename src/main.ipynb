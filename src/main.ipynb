{
 "cells": [
  {
   "cell_type": "code",
   "execution_count": 4,
   "metadata": {},
   "outputs": [],
   "source": [
    "import os\n",
    "import ipdb\n",
    "from os.path import join\n",
    "\n",
    "import numpy as np\n",
    "import cv2\n",
    "\n",
    "from paths import data_path\n",
    "\n",
    "from IPython.display import Image"
   ]
  },
  {
   "cell_type": "code",
   "execution_count": 6,
   "metadata": {},
   "outputs": [],
   "source": [
    "import PIL.Image\n",
    "from cStringIO import StringIO\n",
    "import IPython.display\n",
    "import numpy as np\n",
    "def showarray(a, fmt='png'):\n",
    "    a = np.uint8(a)\n",
    "    f = StringIO()\n",
    "    PIL.Image.fromarray(a).save(f, fmt)\n",
    "    IPython.display.display(IPython.display.Image(data=f.getvalue()))"
   ]
  },
  {
   "cell_type": "code",
   "execution_count": 2,
   "metadata": {},
   "outputs": [],
   "source": [
    "img = cv2.imread(join(data_path, '2017-01-20 - Lidl.png'), cv2.IMREAD_GRAYSCALE)"
   ]
  },
  {
   "cell_type": "code",
   "execution_count": 3,
   "metadata": {},
   "outputs": [],
   "source": [
    "kernel  = np.ones((3,3),np.uint8)\n",
    "kernel[0,2] = kernel[2,2] = kernel[0,0] = kernel[2,0] = 0\n",
    "img2 = cv2.morphologyEx(img, cv2.MORPH_CLOSE, kernel)\n",
    "img2 = cv2.morphologyEx(img2, cv2.MORPH_OPEN, kernel)"
   ]
  },
  {
   "cell_type": "code",
   "execution_count": 51,
   "metadata": {},
   "outputs": [],
   "source": [
    "# showarray(img2)"
   ]
  },
  {
   "cell_type": "code",
   "execution_count": 50,
   "metadata": {},
   "outputs": [],
   "source": [
    "# showarray(img)"
   ]
  },
  {
   "cell_type": "code",
   "execution_count": 31,
   "metadata": {},
   "outputs": [],
   "source": [
    "# sigma = 4.0\n",
    "# x = np.arange(-3*sigma, 3*sigma, 1)\n",
    "# gaussian = np.exp(-(x/sigma)**2/2)\n",
    "# # img3 = np.convolve(img, gaussian)\n",
    "\n",
    "\n",
    "# First a 1-D  Gaussian\n",
    "t = np.linspace(-10, 10, 30)\n",
    "bump = np.exp(-0.1*t**2)\n",
    "bump /= np.trapz(bump) # normalize the integral to 1\n",
    "\n",
    "# make a 2-D kernel out of it\n",
    "kernel = bump[:, np.newaxis] * bump[np.newaxis, :]\n",
    "\n",
    "# from scipy import signal\n",
    "# img3 = signal.fftconvolve(img, kernel[:, :, np.newaxis], mode='same')\n",
    "\n",
    "# # showarray(img3)"
   ]
  },
  {
   "cell_type": "code",
   "execution_count": 48,
   "metadata": {},
   "outputs": [],
   "source": [
    "import scipy\n",
    "# img3 = scipy.ndimage.filters.gaussian_filter(img, .5)\n",
    "img3 = scipy.signal.medfilt(img, 3)\n",
    "# showarray(img3)"
   ]
  },
  {
   "cell_type": "code",
   "execution_count": 49,
   "metadata": {},
   "outputs": [],
   "source": [
    "kernel  = np.ones((3,3),np.uint8)\n",
    "kernel[0,2] = kernel[2,2] = kernel[0,0] = kernel[2,0] = 0\n",
    "# img3 = cv2.dilate(img3, kernel)\n",
    "img4 = cv2.morphologyEx(img3, cv2.MORPH_OPEN, kernel)\n",
    "# showarray(img4)"
   ]
  },
  {
   "cell_type": "code",
   "execution_count": null,
   "metadata": {},
   "outputs": [],
   "source": []
  },
  {
   "cell_type": "code",
   "execution_count": 20,
   "metadata": {},
   "outputs": [
    {
     "data": {
      "text/plain": [
       "(24,)"
      ]
     },
     "execution_count": 20,
     "metadata": {},
     "output_type": "execute_result"
    }
   ],
   "source": [
    "gaussian.shape"
   ]
  },
  {
   "cell_type": "code",
   "execution_count": null,
   "metadata": {},
   "outputs": [],
   "source": []
  }
 ],
 "metadata": {
  "kernelspec": {
   "display_name": "Python 2",
   "language": "python",
   "name": "python2"
  },
  "language_info": {
   "codemirror_mode": {
    "name": "ipython",
    "version": 2
   },
   "file_extension": ".py",
   "mimetype": "text/x-python",
   "name": "python",
   "nbconvert_exporter": "python",
   "pygments_lexer": "ipython2",
   "version": "2.7.10"
  }
 },
 "nbformat": 4,
 "nbformat_minor": 2
}
